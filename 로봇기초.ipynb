{
  "nbformat": 4,
  "nbformat_minor": 0,
  "metadata": {
    "colab": {
      "provenance": [],
      "mount_file_id": "1nKIAU2xmv8yu0m9rwuAVHqoHVK1lxFuN",
      "authorship_tag": "ABX9TyNAmxhtJhlCNaASouO9lVKY",
      "include_colab_link": true
    },
    "kernelspec": {
      "name": "python3",
      "display_name": "Python 3"
    },
    "language_info": {
      "name": "python"
    }
  },
  "cells": [
    {
      "cell_type": "markdown",
      "metadata": {
        "id": "view-in-github",
        "colab_type": "text"
      },
      "source": [
        "<a href=\"https://colab.research.google.com/github/tjdfufl/repository-sungryul/blob/main/%EB%A1%9C%EB%B4%87%EA%B8%B0%EC%B4%88.ipynb\" target=\"_parent\"><img src=\"https://colab.research.google.com/assets/colab-badge.svg\" alt=\"Open In Colab\"/></a>"
      ]
    },
    {
      "cell_type": "code",
      "execution_count": 1,
      "metadata": {
        "id": "XllqE9aHT8G9"
      },
      "outputs": [],
      "source": [
        "# H1\n",
        "## H2\n",
        "### H3\n",
        "#### H4\n",
        "##### H5"
      ]
    },
    {
      "cell_type": "code",
      "source": [],
      "metadata": {
        "id": "siNbD9HHUhMv"
      },
      "execution_count": null,
      "outputs": []
    },
    {
      "cell_type": "markdown",
      "source": [
        "# H1\n",
        "## H2\n",
        "### H3\n",
        "#### H4\n",
        "##### H5"
      ],
      "metadata": {
        "id": "PR5mCRIVUnUN"
      }
    },
    {
      "cell_type": "markdown",
      "source": [
        "**진하게**\n",
        "__밑줄__\n",
        "~~취소~~\n",
        "_이탤릭_"
      ],
      "metadata": {
        "id": "Mzr_onXaUsjb"
      }
    },
    {
      "cell_type": "markdown",
      "source": [
        "문장\n",
        "줄바꿈\n",
        "안함\n",
        "\n",
        "문장  \n",
        "줄바꿈  \n",
        "함\n",
        "\n",
        "\n",
        "> 블럭 1단계\n",
        ">> 블럭 2단계\n",
        "\n"
      ],
      "metadata": {
        "id": "mC-NmG0UU9hh"
      }
    },
    {
      "cell_type": "markdown",
      "source": [
        "* 사과\n",
        "* 오렌지\n",
        "  + 딸기\n",
        "  + 파인애플\n",
        "- 포도\n",
        "- 바나나\n",
        "1. 참외\n",
        "2. 수박\n",
        "\n",
        "[바로가기](http://google.com)  \n",
        "<http://google.com>\n",
        "\n",
        "***\n",
        "수평선\n",
        "\n",
        "----\n",
        "\n",
        "| 1열 | 2열 | 3열 |\n",
        "| :------ | ----: | :---: |\n",
        "| 왼쪽 | 오른쪽 | 가운데 |\n",
        "| 정렬하기 | 정렬하기 | 정렬하기 |\n",
        "| 테스트 | 테스트 | 테스트 |\n",
        "\n",
        "![이미지설명문구](https://search.pstatic.net/sunny/?src=https%3A%2F%2Fthumb10.iclickart.co.kr%2FThumb10%2F15080000%2F15074176.jpg&type=sc960_832)  \n",
        "\n",
        "(todo list 같은 것에 좋다)\n",
        "* [ ] 비어있는 체크박스\n",
        "* [x] 체크된 체크박스\n",
        "\n",
        "\n",
        "\n",
        "$$\n",
        "\\begin{aligned}\n",
        "f(x)&=ax^2+bx+c\\\\\n",
        "g(x)&=Ax^4\n",
        "\\end{aligned}\n",
        "$$\n",
        "\n",
        "문장내 $\\frac{1+s}{s(s+2)}$ 삽입\n",
        "$$\\frac{1+s}{s(s+2)}$$  \n",
        "\n",
        "$\\displaystyle\\lim_{s\\rightarrow\\infty}{s^2}$\n",
        "$\\displaystyle\\sum_{i=0}^{\\infty}{(y_i-t_i)^2}$\n",
        "\n",
        "$\\begin{matrix}1&2\\\\3&4\\\\ \\end{matrix}$\n",
        "$\\begin{pmatrix}1&2\\\\3&4\\\\ \\end{pmatrix}$\n",
        "$\\begin{bmatrix}1&2\\\\3&4\\\\ \\end{bmatrix}$\n",
        "$\\begin{Bmatrix}1&2\\\\3&4\\\\ \\end{Bmatrix}$\n",
        "$\\begin{vmatrix}1&2\\\\3&4\\\\ \\end{vmatrix}$\n",
        "$\\begin{Vmatrix}1&2\\\\3&4\\\\ \\end{Vmatrix}$\n"
      ],
      "metadata": {
        "id": "Mo5ZQSvqV_3f"
      }
    },
    {
      "cell_type": "code",
      "source": [],
      "metadata": {
        "id": "F8jgQ-T0XcJm"
      },
      "execution_count": null,
      "outputs": []
    }
  ]
}