{
  "nbformat": 4,
  "nbformat_minor": 0,
  "metadata": {
    "colab": {
      "provenance": [],
      "authorship_tag": "ABX9TyPDHYxCCbGYPshlo8IITUZb",
      "include_colab_link": true
    },
    "kernelspec": {
      "name": "python3",
      "display_name": "Python 3"
    },
    "language_info": {
      "name": "python"
    }
  },
  "cells": [
    {
      "cell_type": "markdown",
      "metadata": {
        "id": "view-in-github",
        "colab_type": "text"
      },
      "source": [
        "<a href=\"https://colab.research.google.com/github/tjdfufl/repository-sungryul/blob/main/Untitled0.ipynb\" target=\"_parent\"><img src=\"https://colab.research.google.com/assets/colab-badge.svg\" alt=\"Open In Colab\"/></a>"
      ]
    },
    {
      "cell_type": "code",
      "execution_count": null,
      "metadata": {
        "id": "4iFdaPYUr3LT"
      },
      "outputs": [],
      "source": []
    },
    {
      "cell_type": "markdown",
      "source": [
        "# repository-sungryul\n",
        "\n",
        "### 이 repository는,\n",
        "* Remote repository의 생성  \n",
        "* Local Clone  \n",
        "* Local에서 수정  \n",
        "* Local에서 Commit  \n",
        "* Remote로 Push  \n",
        "###를 연습하기 위해 만들어졌습니다  \n",
        "### 이 부분은 'Collaborator' 가 추가로 수정한 부분입니다.  \n",
        "### 이 부분은 'Branch01'에서 추가된 부분입니다."
      ],
      "metadata": {
        "id": "nHzkVRkns5MC"
      }
    }
  ]
}